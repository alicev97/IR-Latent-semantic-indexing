{
 "cells": [
  {
   "cell_type": "code",
   "execution_count": 1,
   "metadata": {},
   "outputs": [],
   "source": [
    "from nltk.stem import PorterStemmer\n",
    "from collections import defaultdict\n",
    "import re\n",
    "import numpy as np\n",
    "from numpy.linalg import svd\n",
    "from math import log\n",
    "import matplotlib.pyplot as plt"
   ]
  },
  {
   "cell_type": "markdown",
   "metadata": {},
   "source": [
    "# Build an IR System"
   ]
  },
  {
   "cell_type": "markdown",
   "metadata": {},
   "source": [
    "## Reading the corpus"
   ]
  },
  {
   "cell_type": "markdown",
   "metadata": {},
   "source": [
    "The data I used are a collection of book's plots. The dataset contains the following information:\n",
    "1. Wikipedia article ID\n",
    "2. Freebase ID\n",
    "3. Book title\n",
    "4. Author\n",
    "5. Publication date\n",
    "6. Book genres (Freebase ID:name tuples)\n",
    "7. Plot summary\n",
    "\n",
    "In order to store each instance of the dataset let's define a class to represent the data. "
   ]
  },
  {
   "cell_type": "code",
   "execution_count": 2,
   "metadata": {},
   "outputs": [],
   "source": [
    "class Book:\n",
    "    \n",
    "    def __init__(self, wikipedia_idx, freebase_idx, title, author, date, genres, plot):\n",
    "        self._wikipedia_idx = wikipedia_idx\n",
    "        self._freebase_idx = freebase_idx\n",
    "        self._title = title\n",
    "        self._author = author\n",
    "        self._date = date\n",
    "        self._genres = genres\n",
    "        self._plot = plot\n",
    "        \n",
    "    def get_text(self):\n",
    "        # function that return the plot of the Book\n",
    "        return self._plot\n",
    "    \n",
    "    def __repr__(self):\n",
    "        return self._title + ', ' + self._author"
   ]
  },
  {
   "cell_type": "markdown",
   "metadata": {},
   "source": [
    "Now let's define a function to import the data and create a corpus of `Book`s."
   ]
  },
  {
   "cell_type": "code",
   "execution_count": 3,
   "metadata": {},
   "outputs": [],
   "source": [
    "def read_corpus_of_books(filepath):\n",
    "    corpus = [] # create an empty list\n",
    "    with open(filepath) as f: \n",
    "        for row in f: # for each row\n",
    "            wikipedia_idx, freebase_idx, title, author, date, genres, plot = row.split('\\t') # split the row\n",
    "            corpus.append(Book(wikipedia_idx, freebase_idx, title, author, date, genres, plot)) # create the Book and append it to the corpus list\n",
    "    return corpus"
   ]
  },
  {
   "cell_type": "markdown",
   "metadata": {},
   "source": [
    "## Inverted index"
   ]
  },
  {
   "cell_type": "markdown",
   "metadata": {},
   "source": [
    "In order to minimize the variation prensent in the data we need to clean the texts. Hence I defined some functions to remove the punctuation and the useless white spaces, convert everything to lower-case, split the text into tokens and perform the stemming. For this last feature I used the Porter Stemmer. Finally I wrapped everything up into a `clean` function."
   ]
  },
  {
   "cell_type": "code",
   "execution_count": 4,
   "metadata": {},
   "outputs": [],
   "source": [
    "def normalize(text):\n",
    "    text_cleaned = re.sub(r\"[^\\w\\s]\", ' ', text) # remove punctuation\n",
    "    text_cleaned = re.sub('\\s+', ' ', text_cleaned) # remove white spaces\n",
    "    text_cleaned = text_cleaned.lower() # convert to lowercase\n",
    "    return text_cleaned\n",
    "\n",
    "def tokenize(text):\n",
    "    return text.split() # split the text into tokens\n",
    "\n",
    "ps = PorterStemmer()\n",
    "def stemming(tokens):\n",
    "    return [ps.stem(token) for token in tokens] # perform stemming\n",
    "\n",
    "def clean(text):\n",
    "    # perform all the abovementioned operations\n",
    "    normalized = normalize(text)\n",
    "    tokenized = tokenize(normalized)\n",
    "    return stemming(tokenized)"
   ]
  },
  {
   "cell_type": "markdown",
   "metadata": {},
   "source": [
    "Once we have imported the corpus and we can clean it, let's create an inverted index which associate to each term and to each document containing that term the number of times that the term appears in the document. In this way it will be faster to build the term-document matrix.\\"
   ]
  },
  {
   "cell_type": "code",
   "execution_count": 5,
   "metadata": {},
   "outputs": [],
   "source": [
    "class InvertedIndex:\n",
    "    \n",
    "    def __init__(self, index):\n",
    "        self._dictionary = index\n",
    "    \n",
    "    @classmethod\n",
    "    def from_corpus(cls, corpus):\n",
    "        # create inverted index: index[term][docid] = count\n",
    "        index = defaultdict(dict)\n",
    "        for docId, document in enumerate(corpus[:NUM_DOCUMENT]): # for each document\n",
    "            tokens = clean(document.get_text()) # collect the cleaned tokens\n",
    "            for token in tokens: # for each token\n",
    "                try:\n",
    "                    index[token][docId] += 1 # add the counter\n",
    "                except KeyError:\n",
    "                    index[token][docId] = 1 # or set the counter to 1\n",
    "        return cls(index) # return the index\n",
    "    \n",
    "    def keys(self):\n",
    "        # function to return the set of keys of the dictionary -> the terms of the index\n",
    "        return self._dictionary.keys()\n",
    "    \n",
    "    def __getitem__(self, key):\n",
    "        return self._dictionary[key]\n",
    "        raise KeyError # the key is not present"
   ]
  },
  {
   "cell_type": "markdown",
   "metadata": {},
   "source": [
    "## Term-document matrix"
   ]
  },
  {
   "cell_type": "markdown",
   "metadata": {},
   "source": [
    "In order to perform the **Latent Semantic Indexing** we need to build the term-document matrix, that is the matrix in which each row correspond to a term and each column to a document and the value of each element is equal to some kind of weighting of the word in the document.\\\n",
    "I built a class that allows you to build the term-document from the corpus. You can also choose two different options for the words weighting:\n",
    "- the Bag of Words matrix: in which each element of the matrix is equal to the frequency of the term in the document\n",
    "- the tf-idf matrix: in which each element of the matrix is equal to the tfidf score for the term in the document\n",
    "\n",
    "Here begins the crucial part of the **LSI**\\\n",
    "The `svd` function of the class performes the singular value decomposition. In this way we are able to extract the latent factors of the term-document matrix, which express the concepts of the texts.\\\n",
    "Performing SVD we obtain three matrices:\n",
    "- U: term-concept matrix where each column represent how much each term is represented by a certain concept\n",
    "- $\\Sigma$: concept matrix, a diagonal matrix where each value represent the weight of a concept\n",
    "- V: document-concept matrix where each row represent how much a document contains a certain concept"
   ]
  },
  {
   "cell_type": "code",
   "execution_count": 6,
   "metadata": {},
   "outputs": [],
   "source": [
    "class TermDocumentMatrix:\n",
    "    \n",
    "    def __init__(self, index, matrix, tfidf = False):\n",
    "        self._index = index\n",
    "        self._matrix = matrix\n",
    "        self._tfidf = tfidf\n",
    "    \n",
    "    @classmethod\n",
    "    def from_corpus(cls, corpus, tfidf = False):\n",
    "        index = InvertedIndex.from_corpus(corpus) # create the inverted index\n",
    "        C = np.zeros((len(index.keys()), NUM_DOCUMENT)) # create a data matrix with #words-by-#docs dimensions\n",
    "        # fill the matrix\n",
    "        for d, document in enumerate(corpus[:NUM_DOCUMENT]): # for each document in the corpus\n",
    "            tokens = clean(document.get_text()) # collect the tokens\n",
    "            for i, word in enumerate(sorted(index.keys())): # for each word in the vocabulary\n",
    "                try:\n",
    "                    value = index[word][d] # get the number of times the word appears in the document\n",
    "                    if tfidf: # if we want to use tfidf\n",
    "                        value *= log(NUM_DOCUMENT/len(index[word])) # multiply the term frequency for the inverse document frequency\n",
    "                    C[i,d] = value # assign the value to the matrix element\n",
    "                except KeyError: # if the word do not appear in the docuent\n",
    "                    C[i,d] = 0 # assign the value 0 to the matrix element\n",
    "        return cls(index, C, tfidf) # call class ctor\n",
    "        \n",
    "    def get_vocabulary(self):\n",
    "        # function to get the vocabulary\n",
    "        return sorted(self._index.keys())\n",
    "        \n",
    "    def svd(self):\n",
    "        # function to perform sigular value decomposition\n",
    "        return svd(self._matrix, full_matrices=False, compute_uv=True)"
   ]
  },
  {
   "cell_type": "markdown",
   "metadata": {},
   "source": [
    "## IR System"
   ]
  },
  {
   "cell_type": "markdown",
   "metadata": {},
   "source": [
    "Before starting the construction of the information retrieval system there are a few things to be highlighted.\n",
    "\n",
    "An important thing that can be done with SVD is reduce the space occupied by the original term-document matrix by reducing its rank. Using SVD we are able to minimize the error introduced by the approximation, in fact the matrix obtained in this way minimize the Fobenius norm.\\\n",
    "Hence, given the term-document matrix $C$ of rank $r$ and its SVD $U\\Sigma V^T$ and fixed the rank of the approximation to $k < r$, we can compute the approximated matrix $C_k$ by zeroing out the smallest $r-k$ singular values. Hence $C_k = U\\Sigma_kV^T$.\\\n",
    "In addition there is no need to store the last $r-k$ columns of $U$ and the last $r-k$ rows of $V$, so we can rewrite everything as a truncated SVD $U_k \\Sigma_k V_k^T$.\n",
    "\n",
    "Starting from the approximated matrices we are able to bild a vector space model where the base is made by the *pseudo-terms*. Each pseudo-term is an element of the canonical base of $R^k$ where $k$ is the number of concepts we extracted and each document is a point in the $k$-dimensional space that corresponds to a row of the matrix $V$.\\\n",
    "\n",
    "In the vector space we can compute the similarity between two documents by computing the cosine-similarity between the two corresponding vectors (which represent the angle between the two vectors): $sim(d_1,d_2) = \\frac{V(d_1)V(d_2)}{||V(d_1)||||V(d_2)||}$.\n",
    "\n",
    "In this vetor space model also queries can be represented as vectors. Hence each query can be represented as a vector with non-zero components corresponding to the query terms. Then we have to remap the query vector in the space of concepts: $\\hat{q} = \\Sigma^{-1} U^T q$.\n",
    "\n",
    "The answere to a query can be computed using the cosine similarity: $score(q, d_i) = sim(q, d_i)$.\n",
    "\n",
    "Since we are computing a similarity score we have a ranking of documents. Hence we can retrieve the $K$ most relevant documents."
   ]
  },
  {
   "cell_type": "markdown",
   "metadata": {},
   "source": [
    "Let's now put everything together to build the Information Retrieval System.\\\n",
    "\n",
    "The IRSystem class allows you to build an information retrieval system starting from a corpus or loading it from some files and also to save it to some files.\\\n",
    "In addition it is possible to answere some free text queries by retreaving the $K$ most relevant documents."
   ]
  },
  {
   "cell_type": "code",
   "execution_count": 7,
   "metadata": {},
   "outputs": [],
   "source": [
    "class IRSystem:\n",
    "    \n",
    "    def __init__(self, corpus, vocabulary, U, sigma, V):\n",
    "        self._corpus = corpus\n",
    "        self._vocabulary = vocabulary\n",
    "        self._U = U\n",
    "        self._sigma = sigma\n",
    "        self._V = V\n",
    "        \n",
    "    @classmethod\n",
    "    def from_corpus(cls, corpus, k, tfidf = False):\n",
    "        term_document_matrix = TermDocumentMatrix.from_corpus(corpus, tfidf) # build the term-document matrix\n",
    "        vocabulary = term_document_matrix.get_vocabulary() # extract the vocabulary\n",
    "        U, sigma, Vt = term_document_matrix.svd() # perform the svd\n",
    "        U_k = U[:, :k] # keep only the firsts k columns of the matrix U\n",
    "        sigma_k = sigma[:k] # the firsts k singular values\n",
    "        Vt_k = Vt[:k, :] # and the firsts k rows of the matrix V\n",
    "        return cls(corpus, vocabulary, U_k, sigma_k, Vt_k.T) # call the class ctor\n",
    "    \n",
    "    @classmethod\n",
    "    def load_ir(cls, path, corpus):\n",
    "        # load the vocabulary from a text fie\n",
    "        with open(path + 'vocabulary.txt') as f:\n",
    "            vocabulary = f.read().splitlines()\n",
    "        # read the matrices from some numpy files\n",
    "        U = np.load(path + 'U_matrix.npy')\n",
    "        sigma = np.load(path + 'sigma_array.npy')        \n",
    "        V = np.load(path + 'V_matrix.npy')        \n",
    "        return cls(corpus, vocabulary, U, sigma, V) # call the class ctor\n",
    "\n",
    "    def save_ir(self, path):\n",
    "        # save the vocabulary into a text file\n",
    "        vocabulary_file = open(path + 'vocabulary.txt', \"w\")\n",
    "        for word in self._vocabulary:\n",
    "            vocabulary_file.write(word + \"\\n\")\n",
    "        vocabulary_file.close()               \n",
    "        # save the matrices into numpy files\n",
    "        np.save(path + 'U_matrix', self._U)\n",
    "        np.save(path + 'sigma_array', self._sigma)        \n",
    "        np.save(path + 'V_matrix', self._V)\n",
    "    \n",
    "    def map_query(self, q):\n",
    "        # map the query vector into the pseudo-terms space\n",
    "        return np.linalg.inv(np.diag(self._sigma)).dot(self._U.T).dot(q)\n",
    "    \n",
    "    def build_query_vector(self, text):\n",
    "        q = np.zeros(len(self._vocabulary)) # create a vector of len #words\n",
    "        # fill that vector with counts\n",
    "        tokens = clean(text) # collect the tokens\n",
    "        for i, word in enumerate(self._vocabulary): # for each word in the vocabulary\n",
    "            q[i] = tokens.count(word) # count how many times that word is appearing in the text\n",
    "        return self.map_query(q) # remap the query into the pseudo-terms space\n",
    "    \n",
    "    def answere_query(self, text, k = 5):\n",
    "        q = self.build_query_vector(text) # build the query vector\n",
    "        scores = []\n",
    "        for d in self._V: # for each document (= row of V)\n",
    "            scores.append(np.dot(q,d) / (np.linalg.norm(q) * np.linalg.norm(d))) # cosine similarity\n",
    "        results = (-np.array(scores)).argsort()[:k] # extract argmax of top K     \n",
    "        return [(self._corpus[idx], scores[idx]) for idx in results], results # return the documents, their scores and theri idxs"
   ]
  },
  {
   "cell_type": "markdown",
   "metadata": {},
   "source": [
    "Finally let's define a function to answer a free text query given the information retrieval system"
   ]
  },
  {
   "cell_type": "code",
   "execution_count": 8,
   "metadata": {},
   "outputs": [],
   "source": [
    "def query(ir, text, k = 5, verbose = True):\n",
    "    results, idxs= ir.answere_query(text, k) # extract the results to the query\n",
    "    if verbose:\n",
    "        for document in results: # print the results\n",
    "            print(document)\n",
    "    return idxs # return the idxs"
   ]
  },
  {
   "cell_type": "markdown",
   "metadata": {},
   "source": [
    "# Let's do this"
   ]
  },
  {
   "cell_type": "markdown",
   "metadata": {},
   "source": [
    "Let's now try to build the system and ask it some queries"
   ]
  },
  {
   "cell_type": "code",
   "execution_count": 9,
   "metadata": {},
   "outputs": [],
   "source": [
    "NUM_DOCUMENT = 1000 # let's consider only the first 1000 documents (for RAM problems)"
   ]
  },
  {
   "cell_type": "code",
   "execution_count": 10,
   "metadata": {},
   "outputs": [],
   "source": [
    "corpus = read_corpus_of_books('./booksummaries/booksummaries.txt') # read the corpus "
   ]
  },
  {
   "cell_type": "code",
   "execution_count": 11,
   "metadata": {},
   "outputs": [],
   "source": [
    "ir = IRSystem.from_corpus(corpus, 100) # build the ir sysrem"
   ]
  },
  {
   "cell_type": "code",
   "execution_count": 12,
   "metadata": {},
   "outputs": [
    {
     "name": "stdout",
     "output_type": "stream",
     "text": [
      "(Permutation City, Greg Egan, 0.6438754242776761)\n",
      "(Xenocide, Orson Scott Card, 0.41857378457948624)\n",
      "(Neuromancer, William Gibson, 0.40426879924817694)\n",
      "(Children of the Mind, Orson Scott Card, 0.364982225159203)\n",
      "(The Shockwave Rider, John Brunner, 0.32956120581437764)\n"
     ]
    },
    {
     "data": {
      "text/plain": [
       "array([747, 584,  55, 537,  81])"
      ]
     },
     "execution_count": 12,
     "metadata": {},
     "output_type": "execute_result"
    }
   ],
   "source": [
    "query(ir, 'social network computer') # ask a query"
   ]
  },
  {
   "cell_type": "code",
   "execution_count": 13,
   "metadata": {},
   "outputs": [],
   "source": [
    "ir.save_ir('./data/first_ir/') # save the ir"
   ]
  },
  {
   "cell_type": "code",
   "execution_count": 14,
   "metadata": {},
   "outputs": [],
   "source": [
    "# load the ir from file\n",
    "corpus2 = read_corpus_of_books('./booksummaries/booksummaries.txt')\n",
    "ir2 = IRSystem.load_ir('./data/first_ir/', corpus2)"
   ]
  },
  {
   "cell_type": "markdown",
   "metadata": {},
   "source": [
    "# Evaluation"
   ]
  },
  {
   "cell_type": "markdown",
   "metadata": {},
   "source": [
    "To evaluate the information retrieval system let's consider another dataset: the *Cranfield collection*"
   ]
  },
  {
   "cell_type": "markdown",
   "metadata": {},
   "source": [
    "## Cranfield articles"
   ]
  },
  {
   "cell_type": "markdown",
   "metadata": {},
   "source": [
    "The Cranfield collection contains 1398 abstracts of aerodynamics journal articles, each of them is composed by:\n",
    "1. idx: a univocal index\n",
    "2. title: the tile of the article\n",
    "3. text: the text of the article\n",
    "\n",
    "In order to store each instance let's define a class to represent the data."
   ]
  },
  {
   "cell_type": "code",
   "execution_count": 15,
   "metadata": {},
   "outputs": [],
   "source": [
    "class Articles:\n",
    "    \n",
    "    def __init__(self, idx, title, text):\n",
    "        self._idx = idx\n",
    "        self._title = title\n",
    "        self._text = text\n",
    "    \n",
    "    def get_text(self):\n",
    "        # function to get the text of the ariticle\n",
    "        return self._text\n",
    "    \n",
    "    def get_idx(self):\n",
    "        # function to get the idx of the article\n",
    "        return self._idx\n",
    "    \n",
    "    def __repr__(self):\n",
    "        return self._idx + ': ' + self._title  "
   ]
  },
  {
   "cell_type": "markdown",
   "metadata": {},
   "source": [
    "And a function to read them."
   ]
  },
  {
   "cell_type": "code",
   "execution_count": 16,
   "metadata": {},
   "outputs": [],
   "source": [
    "def read_Cranfield(filepath):\n",
    "    with open(filepath) as f: # open the file\n",
    "        corpus = []\n",
    "        is_title = False\n",
    "        is_text = False\n",
    "        text = \"\"\n",
    "        title = \"\"\n",
    "        for row in f: # for each row\n",
    "            if row.startswith(\".A\"): # if it starts with .A\n",
    "                is_title = False # the tile is ended\n",
    "            elif row.startswith(\".I\"): # if it starts with .I\n",
    "                is_text = False # the text is ended\n",
    "                if text != \"\":\n",
    "                    corpus.append(Articles(idx, title.replace('\\n', ' '), text.replace('\\n', ' '))) # create an Article instance\n",
    "                    title = \"\"\n",
    "                    text = \"\"\n",
    "                idx = re.findall('[0-9]+', row)[0] # extract the index from the row\n",
    "            if is_title: # if we are reading the title\n",
    "                title += row # concat it\n",
    "            if is_text: # if we are reading the text\n",
    "                text += row # concat it\n",
    "            if row.startswith(\".T\"): # if it starts with .T\n",
    "                is_title = True # we are going to read the title in the next lines\n",
    "            elif row.startswith(\".W\"): # if it starts with .W\n",
    "                is_text = True # we are going to read the text in the next lines\n",
    "    return corpus # return the corpus"
   ]
  },
  {
   "cell_type": "markdown",
   "metadata": {},
   "source": [
    "# Cranfield queries and relevance set"
   ]
  },
  {
   "cell_type": "markdown",
   "metadata": {},
   "source": [
    "The Cranfield collection also contains a set of 225 queries, and exhaustive relevance judgments of all (query, document) pairs.\\\n",
    "Hence each query has:\n",
    "1. idx: a univocal index\n",
    "2. text: the text of the query\n",
    "3. relevance_set: the list of relevant document for the query\n",
    "\n",
    "In order to store each instance let's define a class to represent the data."
   ]
  },
  {
   "cell_type": "code",
   "execution_count": 17,
   "metadata": {},
   "outputs": [],
   "source": [
    "class Query:\n",
    "    \n",
    "    def __init__(self, idx, text, relevance_set):\n",
    "        self._idx = idx\n",
    "        self._text = text\n",
    "        self._relevance_set = relevance_set\n",
    "        \n",
    "    def evaluate(self, docs_idx):\n",
    "        # function to visually evaluate the performances relative query: True if the document is relevant for it, False otherwise\n",
    "        return [idx in self._relevance_set for idx in docs_idx]   \n",
    "    \n",
    "    def precision(self, docs_idx):\n",
    "        # function to compute the precision relative to a query\n",
    "        return sum([int(idx in self._relevance_set) for idx in docs_idx])/len(docs_idx)\n",
    "    \n",
    "    def R_precision(self, docs_idx):\n",
    "        # function to compute the R-precision relative to a query\n",
    "        if len(docs_idx) > len(self._relevance_set): # if there are more retrieved documents then relevant documents\n",
    "            docs_idx = docs_idx[:len(self._relevance_set)] # consider only the first #relevant_documents retrieved documents\n",
    "        return self.precision(docs_idx) # compute precision\n",
    "    \n",
    "    def recall(self, docs_idx):\n",
    "        # function to compute the recall relative to a query\n",
    "        return sum([int(idx in self._relevance_set) for idx in docs_idx])/len(self._relevance_set)\n",
    "        \n",
    "    def get_query(self):\n",
    "        # function to get the text of a query\n",
    "        return self._text\n",
    "    \n",
    "    def get_num_relevant_docs(self):\n",
    "        return len(self._relevance_set)\n",
    "    \n",
    "    def __repr__(self):\n",
    "        return self._idx + ': ' + self._text "
   ]
  },
  {
   "cell_type": "markdown",
   "metadata": {},
   "source": [
    "And a funciton to read the relevance set"
   ]
  },
  {
   "cell_type": "code",
   "execution_count": 18,
   "metadata": {},
   "outputs": [],
   "source": [
    "def read_relevance(filepath):\n",
    "    with open(filepath) as f:\n",
    "        relevance_set = {}\n",
    "        for row in f: # for each row\n",
    "            l = re.findall('[0-9]+', row) # extract the numbers\n",
    "            q = l[0] # the first one is the query id\n",
    "            doc = l[1] # the second one is the document id\n",
    "            try:\n",
    "                relevance_set[q].append(doc) # append the document id to the relevance set\n",
    "            except KeyError:\n",
    "                relevance_set[q] = [doc] # or initialize the set\n",
    "    return relevance_set # return the relevance set"
   ]
  },
  {
   "cell_type": "markdown",
   "metadata": {},
   "source": [
    "And the read the queries"
   ]
  },
  {
   "cell_type": "code",
   "execution_count": 19,
   "metadata": {},
   "outputs": [],
   "source": [
    "def read_queries(filepath, relevance_set):\n",
    "    with open(filepath) as f:\n",
    "        corpus = []\n",
    "        is_text = False\n",
    "        text = \"\"\n",
    "        i = 1\n",
    "        for row in f: # for each row\n",
    "            if row.startswith(\".I\"): # if it starts with .I\n",
    "                is_text = False # the text is ended\n",
    "                if text != \"\":\n",
    "                    corpus.append(Query(idx, text.replace('\\n', ' '), relevance_set[str(i)])) # create a Query instance\n",
    "                    i += 1\n",
    "                    text = \"\"\n",
    "                idx = re.findall('[0-9]+', row)[0] # extract the idx of the query\n",
    "            if is_text: # if we are reading the text\n",
    "                text += row # concat it\n",
    "            elif row.startswith(\".W\"): # if it starts with .W\n",
    "                is_text = True # we are going to read the text in the next lines\n",
    "    return corpus # return the corpus"
   ]
  },
  {
   "cell_type": "markdown",
   "metadata": {},
   "source": [
    "## Evaluation functions"
   ]
  },
  {
   "cell_type": "markdown",
   "metadata": {},
   "source": [
    "Let's now define various functions to evaluate the performances of an information retrieval system\n",
    "- Precision-recall curve: compute precision and recall for the first 1, 2, 3, 4, ... retrieved documents, compute the interpolated precision and plot them\n",
    "- R-precision: If there are R relevant documents for a query, the R-precision is the precision of the top R ranked documents returned by the query. R-precision can be averaged across queries\n",
    "- Mean Average Precision: $= \\frac 1 n \\sum_{j=1}^n(\\frac 1 {m_j} \\sum_{k=1}^{m_j} Precision(R_{kj}))$ where $n$ is the number of considered queries, $m_j$ is the number of relevant documents for the j-th query and $R_{kj}$ is the set of ranked documents retrieved for the j-th query that we get to obtain k relevant documents"
   ]
  },
  {
   "cell_type": "code",
   "execution_count": 20,
   "metadata": {},
   "outputs": [],
   "source": [
    "def precision_recall_curve(ir, q, corpus, k):\n",
    "    results = query(ir, q.get_query(), k, False) # extract the K most relevant documents for the query\n",
    "    docs_idx = [corpus[idx].get_idx() for idx in results] # extract their idxs in the corpus\n",
    "    precision = []\n",
    "    recall = []\n",
    "    for j in range(1, k+1): # considering the first j retrieved documents\n",
    "        precision.append(q.precision(docs_idx[:j])) # compute the precision\n",
    "        recall.append(q.recall(docs_idx[:j])) # and the recall\n",
    "    # compute the interpolated precision\n",
    "    interpolated_precision = []\n",
    "    for i in range(len(precision)): \n",
    "        interpolated_precision.append(max(precision[i:]))\n",
    "    # and plot everything\n",
    "    fig, ax = plt.subplots()\n",
    "    ax.plot(recall, precision)\n",
    "    ax.plot(recall, interpolated_precision, ':')\n",
    "    ax.set(xlabel='recall', ylabel='precision',\n",
    "           title='Recall-precision curve')\n",
    "    plt.show()\n",
    "    return precision, recall # return precision and recall"
   ]
  },
  {
   "cell_type": "code",
   "execution_count": 21,
   "metadata": {},
   "outputs": [],
   "source": [
    "def compute_R_precision(ir, q, corpus, k=10):\n",
    "    results = query(ir, q.get_query(), k, False) # extract the K most relevant documents for the query  \n",
    "    docs_idx = [corpus[idx].get_idx() for idx in results] # extract their idxs in the corpus\n",
    "    return q.R_precision(docs_idx) # compute R precision"
   ]
  },
  {
   "cell_type": "code",
   "execution_count": 22,
   "metadata": {},
   "outputs": [],
   "source": [
    "def mean_R_precision(ir, queries_set, corpus, k=10):\n",
    "    mean_r = 0\n",
    "    for q in queries_set: # for each query in the set\n",
    "        mean_r += compute_R_precision(ir, q, corpus, k) # compute R precision\n",
    "    return mean_r/len(queries_set) # and compute the mean value"
   ]
  },
  {
   "cell_type": "code",
   "execution_count": 23,
   "metadata": {},
   "outputs": [],
   "source": [
    "def average_precision(ir, q, corpus):\n",
    "    sum_of_precisions = 0\n",
    "    for k in range(1, q.get_num_relevant_docs()+1):\n",
    "        results = query(ir, q.get_query(), k, False) # extract the K most relevant documents for the query \n",
    "        docs_idx = [corpus[idx].get_idx() for idx in results] # extract their idxs in the corpus \n",
    "        sum_of_precisions += q.precision(docs_idx) # compute the precision \n",
    "    return sum_of_precisions/q.get_num_relevant_docs() # return average precision of the query q"
   ]
  },
  {
   "cell_type": "code",
   "execution_count": 24,
   "metadata": {},
   "outputs": [],
   "source": [
    "def mean_average_precision(ir, queries_set, corpus):\n",
    "    sum_average_precisions = 0\n",
    "    for q in queries_set: # for each query in the set\n",
    "        sum_average_precisions += average_precision(ir, q, corpus) # compute average precision of the query q\n",
    "    return sum_average_precisions/len(queries_set) # return MAP"
   ]
  },
  {
   "cell_type": "markdown",
   "metadata": {},
   "source": [
    "## Let's evaluate"
   ]
  },
  {
   "cell_type": "code",
   "execution_count": 25,
   "metadata": {},
   "outputs": [],
   "source": [
    "# import data\n",
    "cranfield_corpus = read_Cranfield('./cranfield/cran.all.1400')\n",
    "relevance_set = read_relevance('./cranfield/cranqrel')\n",
    "queries_corpus = read_queries('./cranfield/cran.qry', relevance_set)"
   ]
  },
  {
   "cell_type": "code",
   "execution_count": 26,
   "metadata": {},
   "outputs": [],
   "source": [
    "NUM_DOCUMENT = len(cranfield_corpus) # cosider all the corpus"
   ]
  },
  {
   "cell_type": "code",
   "execution_count": 27,
   "metadata": {},
   "outputs": [],
   "source": [
    "# create the information retrieval system\n",
    "cranfield_ir = IRSystem.from_corpus(cranfield_corpus, 200)"
   ]
  },
  {
   "cell_type": "markdown",
   "metadata": {},
   "source": [
    "First of all let's consider the first query of the corpus and evaluate the results on it"
   ]
  },
  {
   "cell_type": "code",
   "execution_count": 28,
   "metadata": {},
   "outputs": [
    {
     "name": "stdout",
     "output_type": "stream",
     "text": [
      "what similarity laws must be obeyed when constructing aeroelastic models of heated high speed aircraft . \n"
     ]
    }
   ],
   "source": [
    "q = queries_corpus[0]\n",
    "print(q.get_query())"
   ]
  },
  {
   "cell_type": "code",
   "execution_count": 29,
   "metadata": {},
   "outputs": [
    {
     "name": "stdout",
     "output_type": "stream",
     "text": [
      "(51: theory of aircraft structural models subjected to aerodynamic heating and external loads . , 0.44663366397848375)\n",
      "(486: similarity laws for aerothermoelastic testing . , 0.3989268108596872)\n",
      "(184: scale models for thermo-aeroelastic research . , 0.36404196218126833)\n",
      "(12: some structural and aerelastic considerations of high speed flight . , 0.34560867049063276)\n",
      "(435: application of similar solutions to calculations of laminar heat transfer on bodies with yaw and large pressure gradients in high speed flow . , 0.2947128673080301)\n"
     ]
    },
    {
     "data": {
      "text/plain": [
       "array([ 50, 484, 183,  11, 434])"
      ]
     },
     "execution_count": 29,
     "metadata": {},
     "output_type": "execute_result"
    }
   ],
   "source": [
    "query(cranfield_ir, q.get_query())"
   ]
  },
  {
   "cell_type": "code",
   "execution_count": 30,
   "metadata": {},
   "outputs": [
    {
     "data": {
      "image/png": "[encoded data removed]",
      "text/plain": [
       "<Figure size 432x288 with 1 Axes>"
      ]
     },
     "metadata": {
      "needs_background": "light"
     },
     "output_type": "display_data"
    }
   ],
   "source": [
    "# precision-recall curve\n",
    "precision, recall = precision_recall_curve(cranfield_ir, q, cranfield_corpus, 20)"
   ]
  },
  {
   "cell_type": "code",
   "execution_count": 31,
   "metadata": {},
   "outputs": [
    {
     "data": {
      "text/plain": [
       "0.8"
      ]
     },
     "execution_count": 31,
     "metadata": {},
     "output_type": "execute_result"
    }
   ],
   "source": [
    "# R-precision\n",
    "compute_R_precision(cranfield_ir, q, cranfield_corpus, 5)"
   ]
  },
  {
   "cell_type": "markdown",
   "metadata": {},
   "source": [
    "Let's now consider the first 5 queries of the corpus and evaluate the average results on them"
   ]
  },
  {
   "cell_type": "code",
   "execution_count": 32,
   "metadata": {},
   "outputs": [
    {
     "data": {
      "text/plain": [
       "['what similarity laws must be obeyed when constructing aeroelastic models of heated high speed aircraft . ',\n",
       " 'what are the structural and aeroelastic problems associated with flight of high speed aircraft . ',\n",
       " 'what problems of heat conduction in composite slabs have been solved so far . ',\n",
       " 'can a criterion be developed to show empirically the validity of flow solutions for chemically reacting gas mixtures based on the simplifying assumption of instantaneous local chemical equilibrium . ',\n",
       " 'what chemical kinetic system is applicable to hypersonic aerodynamic problems . ']"
      ]
     },
     "execution_count": 32,
     "metadata": {},
     "output_type": "execute_result"
    }
   ],
   "source": [
    "queries_set = [queries_corpus[x] for x in range(5)]\n",
    "[x.get_query() for x in queries_set]"
   ]
  },
  {
   "cell_type": "code",
   "execution_count": 45,
   "metadata": {},
   "outputs": [
    {
     "data": {
      "text/plain": [
       "0.42444444444444446"
      ]
     },
     "execution_count": 45,
     "metadata": {},
     "output_type": "execute_result"
    }
   ],
   "source": [
    "# mean R-precision\n",
    "mean_R_precision(cranfield_ir, queries_set, cranfield_corpus, 5)"
   ]
  },
  {
   "cell_type": "code",
   "execution_count": 46,
   "metadata": {},
   "outputs": [
    {
     "data": {
      "text/plain": [
       "0.41374780246540477"
      ]
     },
     "execution_count": 46,
     "metadata": {},
     "output_type": "execute_result"
    }
   ],
   "source": [
    "# mean average precision\n",
    "mean_average_precision(cranfield_ir, queries_set, cranfield_corpus)"
   ]
  },
  {
   "cell_type": "markdown",
   "metadata": {},
   "source": [
    "## Fine tune"
   ]
  },
  {
   "cell_type": "markdown",
   "metadata": {},
   "source": [
    "Thanks to the abovementioned metrics we can now fine tune the rank of the low-rank approximation.\n",
    "\n",
    "We will use the mean R-precision since it is much more fast then the mean average precision but it still consider more then one query.\\\n",
    "The value of the rank k will vary from 100 to 500 by steps of 50. The queries that will be used are the first 5 of the corpus"
   ]
  },
  {
   "cell_type": "code",
   "execution_count": 47,
   "metadata": {},
   "outputs": [
    {
     "name": "stdout",
     "output_type": "stream",
     "text": [
      "Rank  100 :  0.26666666666666666 ;  0.18884699220941864\n",
      "Rank  200 :  0.42666666666666675 ;  0.3929185896200965\n",
      "Rank  300 :  0.42666666666666675 ;  0.402610479697037\n",
      "Rank  400 :  0.5066666666666667 ;  0.36817249441443284\n",
      "Rank  500 :  0.5066666666666667 ;  0.41374780246540477\n",
      "Rank  600 :  0.42666666666666664 ;  0.46234670905897846\n",
      "Rank  700 :  0.4666666666666667 ;  0.4043825742613739\n"
     ]
    },
    {
     "data": {
      "image/png": "[encoded data removed]",
      "text/plain": [
       "<Figure size 432x288 with 1 Axes>"
      ]
     },
     "metadata": {
      "needs_background": "light"
     },
     "output_type": "display_data"
    }
   ],
   "source": [
    "mRp = []\n",
    "mAp = []\n",
    "for k in range(100,800, 100):\n",
    "    cranfield_ir = IRSystem.from_corpus(cranfield_corpus, k) # create the ir  \n",
    "    mRp.append(mean_R_precision(cranfield_ir, queries_set, cranfield_corpus, 5))\n",
    "    mAp.append(mean_average_precision(cranfield_ir, queries_set,cranfield_corpus))\n",
    "    print('Rank ', k, ': ', mRp[-1], '; ', mAp[-1])\n",
    "\n",
    "# plot\n",
    "fig, ax = plt.subplots()\n",
    "ax.plot(range(100,800, 100), mRp, label = 'Mean R-precision')\n",
    "ax.plot(range(100,800, 100), mAp, label = 'Mean average precision')\n",
    "ax.set(xlabel='rank', ylabel='metric')\n",
    "ax.legend()\n",
    "plt.show()"
   ]
  },
  {
   "cell_type": "markdown",
   "metadata": {},
   "source": [
    "We can see that both the metrics reach a maximum and then decrease. Both of them perform well when the rank in $500$. Hence let's rebuilt the information retrieval system specifying a rank of $500$ for the approximation."
   ]
  },
  {
   "cell_type": "code",
   "execution_count": 36,
   "metadata": {},
   "outputs": [],
   "source": [
    "cranfield_ir = IRSystem.from_corpus(cranfield_corpus, 500)"
   ]
  },
  {
   "cell_type": "markdown",
   "metadata": {},
   "source": [
    "Let's try the very first query of the Cranfield collection again"
   ]
  },
  {
   "cell_type": "code",
   "execution_count": 37,
   "metadata": {},
   "outputs": [
    {
     "name": "stdout",
     "output_type": "stream",
     "text": [
      "what similarity laws must be obeyed when constructing aeroelastic models of heated high speed aircraft . \n"
     ]
    }
   ],
   "source": [
    "q = queries_corpus[0]\n",
    "print(q.get_query())"
   ]
  },
  {
   "cell_type": "code",
   "execution_count": 38,
   "metadata": {},
   "outputs": [
    {
     "name": "stdout",
     "output_type": "stream",
     "text": [
      "(51: theory of aircraft structural models subjected to aerodynamic heating and external loads . , 0.2613249918330481)\n",
      "(359: note on the hypersonic similarity law for an unyawed cone . , 0.2552917348402511)\n",
      "(56: an analysis of the applicability of the hypersonic similarity law to the study of the flow about bodies of revolution at zero angle of attack . , 0.22543963055873345)\n",
      "(184: scale models for thermo-aeroelastic research . , 0.22142858552203523)\n",
      "(12: some structural and aerelastic considerations of high speed flight . , 0.2044290384806246)\n"
     ]
    },
    {
     "data": {
      "text/plain": [
       "array([ 50, 358,  55, 183,  11])"
      ]
     },
     "execution_count": 38,
     "metadata": {},
     "output_type": "execute_result"
    }
   ],
   "source": [
    "query(cranfield_ir, q.get_query())"
   ]
  },
  {
   "cell_type": "markdown",
   "metadata": {},
   "source": [
    "We can see that the ranking of the documents is changed a bit with respect to the $200$ dimensions approximation. In addition the scores are much lower then before.\n",
    "\n",
    "Let's also compute the basic metrics again"
   ]
  },
  {
   "cell_type": "code",
   "execution_count": 39,
   "metadata": {},
   "outputs": [
    {
     "data": {
      "image/png": "[encoded data removed]",
      "text/plain": [
       "<Figure size 432x288 with 1 Axes>"
      ]
     },
     "metadata": {
      "needs_background": "light"
     },
     "output_type": "display_data"
    }
   ],
   "source": [
    "# precision recall curve\n",
    "precision, recall = precision_recall_curve(cranfield_ir, q, cranfield_corpus, 20)"
   ]
  },
  {
   "cell_type": "code",
   "execution_count": 40,
   "metadata": {},
   "outputs": [
    {
     "data": {
      "text/plain": [
       "0.8"
      ]
     },
     "execution_count": 40,
     "metadata": {},
     "output_type": "execute_result"
    }
   ],
   "source": [
    "# R-precision\n",
    "compute_R_precision(cranfield_ir, q, cranfield_corpus, 5)"
   ]
  },
  {
   "cell_type": "markdown",
   "metadata": {},
   "source": [
    "We can see that these metrics does not imporve with respect to the $200$ dimensions approximation. Nevertheless the performances were very high for this query.\n",
    "\n",
    "Let's now recompute the performances on the set of 5 queries."
   ]
  },
  {
   "cell_type": "code",
   "execution_count": 41,
   "metadata": {},
   "outputs": [
    {
     "data": {
      "text/plain": [
       "['what similarity laws must be obeyed when constructing aeroelastic models of heated high speed aircraft . ',\n",
       " 'what are the structural and aeroelastic problems associated with flight of high speed aircraft . ',\n",
       " 'what problems of heat conduction in composite slabs have been solved so far . ',\n",
       " 'can a criterion be developed to show empirically the validity of flow solutions for chemically reacting gas mixtures based on the simplifying assumption of instantaneous local chemical equilibrium . ',\n",
       " 'what chemical kinetic system is applicable to hypersonic aerodynamic problems . ']"
      ]
     },
     "execution_count": 41,
     "metadata": {},
     "output_type": "execute_result"
    }
   ],
   "source": [
    "queries_set = [queries_corpus[x] for x in range(5)]\n",
    "[x.get_query() for x in queries_set]"
   ]
  },
  {
   "cell_type": "code",
   "execution_count": 42,
   "metadata": {},
   "outputs": [
    {
     "data": {
      "text/plain": [
       "0.5066666666666667"
      ]
     },
     "execution_count": 42,
     "metadata": {},
     "output_type": "execute_result"
    }
   ],
   "source": [
    "# mean R-precision\n",
    "mean_R_precision(cranfield_ir, queries_set, cranfield_corpus, 5)"
   ]
  },
  {
   "cell_type": "code",
   "execution_count": 43,
   "metadata": {},
   "outputs": [
    {
     "data": {
      "text/plain": [
       "0.41374780246540477"
      ]
     },
     "execution_count": 43,
     "metadata": {},
     "output_type": "execute_result"
    }
   ],
   "source": [
    "# mean average precision\n",
    "mean_average_precision(cranfield_ir, queries_set, cranfield_corpus)"
   ]
  }
 ],
 "metadata": {
  "kernelspec": {
   "display_name": "ir",
   "language": "python",
   "name": "ir"
  },
  "language_info": {
   "codemirror_mode": {
    "name": "ipython",
    "version": 3
   },
   "file_extension": ".py",
   "mimetype": "text/x-python",
   "name": "python",
   "nbconvert_exporter": "python",
   "pygments_lexer": "ipython3",
   "version": "3.7.6"
  }
 },
 "nbformat": 4,
 "nbformat_minor": 4
}
