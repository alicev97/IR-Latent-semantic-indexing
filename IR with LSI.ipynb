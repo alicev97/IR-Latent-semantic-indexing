{
 "cells": [
  {
   "cell_type": "code",
   "execution_count": 1,
   "metadata": {},
   "outputs": [],
   "source": [
    "from nltk.stem import PorterStemmer\n",
    "from collections import defaultdict\n",
    "import re\n",
    "import numpy as np\n",
    "from numpy.linalg import svd\n",
    "from math import log\n",
    "import matplotlib.pyplot as plt"
   ]
  },
  {
   "cell_type": "markdown",
   "metadata": {},
   "source": [
    "# Build an IR System"
   ]
  },
  {
   "cell_type": "markdown",
   "metadata": {},
   "source": [
    "## Reading the corpus"
   ]
  },
  {
   "cell_type": "markdown",
   "metadata": {},
   "source": [
    "The data I used is a collection of book's plots. The dataset contains the following information:\n",
    "1. Wikipedia article ID\n",
    "2. Freebase ID\n",
    "3. Book title\n",
    "4. Author\n",
    "5. Publication date\n",
    "6. Book genres (Freebase ID:name tuples)\n",
    "7. Plot summary\n",
    "\n",
    "In order to store each instance of the dataset let's define a class to represent the data. "
   ]
  },
  {
   "cell_type": "code",
   "execution_count": 2,
   "metadata": {},
   "outputs": [],
   "source": [
    "class Book:\n",
    "    \n",
    "    def __init__(self, wikipedia_idx, freebase_idx, title, author, date, genres, plot):\n",
    "        self._wikipedia_idx = wikipedia_idx\n",
    "        self._freebase_idx = freebase_idx\n",
    "        self._title = title\n",
    "        self._author = author\n",
    "        self._date = date\n",
    "        self._genres = genres\n",
    "        self._plot = plot\n",
    "        \n",
    "    def get_text(self):\n",
    "        # function that return the plot of the Book\n",
    "        return self._plot\n",
    "    \n",
    "    def __repr__(self):\n",
    "        return self._title + ', ' + self._author"
   ]
  },
  {
   "cell_type": "markdown",
   "metadata": {},
   "source": [
    "Now let's define a function to import the data and create a corpus of `Book`s."
   ]
  },
  {
   "cell_type": "code",
   "execution_count": 3,
   "metadata": {},
   "outputs": [],
   "source": [
    "def read_corpus_of_books(filepath):\n",
    "    corpus = [] # create an empty list\n",
    "    with open(filepath) as f: \n",
    "        for row in f: # for each row\n",
    "            wikipedia_idx, freebase_idx, title, author, date, genres, plot = row.split('\\t') # split the row\n",
    "            corpus.append(Book(wikipedia_idx, freebase_idx, title, author, date, genres, plot)) # create the Book and append it to the corpus list\n",
    "    return corpus"
   ]
  },
  {
   "cell_type": "markdown",
   "metadata": {},
   "source": [
    "## Inverted index"
   ]
  },
  {
   "cell_type": "markdown",
   "metadata": {},
   "source": [
    "In order to minimize the variation prensent in the data we need to clean the texts. Hence I defined some functions to remove the punctuation and the useless white spaces, convert everything to lower-case, split the text into tokens and perform stemming. For this last operation I used the Porter Stemmer.\\\n",
    "Finally I wrapped everything up into a `clean` function."
   ]
  },
  {
   "cell_type": "code",
   "execution_count": 4,
   "metadata": {},
   "outputs": [],
   "source": [
    "def normalize(text):\n",
    "    text_cleaned = re.sub(r\"[^\\w\\s]\", ' ', text) # remove punctuation\n",
    "    text_cleaned = re.sub('\\s+', ' ', text_cleaned) # remove white spaces\n",
    "    text_cleaned = text_cleaned.lower() # convert to lowercase\n",
    "    return text_cleaned\n",
    "\n",
    "def tokenize(text):\n",
    "    return text.split() # split the text into tokens\n",
    "\n",
    "ps = PorterStemmer()\n",
    "def stemming(tokens):\n",
    "    return [ps.stem(token) for token in tokens] # perform stemming\n",
    "\n",
    "def clean(text):\n",
    "    # perform all the abovementioned operations\n",
    "    normalized = normalize(text)\n",
    "    tokenized = tokenize(normalized)\n",
    "    return stemming(tokenized)"
   ]
  },
  {
   "cell_type": "markdown",
   "metadata": {},
   "source": [
    "Based on the cleaned corpus, let's create an inverted index which associate to each term and to each document containing that term the number of times that the term appears in the document. In this way it will be faster to build the term-document matrix."
   ]
  },
  {
   "cell_type": "code",
   "execution_count": 5,
   "metadata": {},
   "outputs": [],
   "source": [
    "class InvertedIndex:\n",
    "    \n",
    "    def __init__(self, index):\n",
    "        self._dictionary = index\n",
    "    \n",
    "    @classmethod\n",
    "    def from_corpus(cls, corpus):\n",
    "        # create inverted index: index[term][docid] = count\n",
    "        index = defaultdict(dict)\n",
    "        for docId, document in enumerate(corpus[:NUM_DOCUMENT]): # for each document\n",
    "            tokens = clean(document.get_text()) # collect the cleaned tokens\n",
    "            for token in tokens: # for each token\n",
    "                try:\n",
    "                    index[token][docId] += 1 # add the counter\n",
    "                except KeyError:\n",
    "                    index[token][docId] = 1 # or set the counter to 1\n",
    "        return cls(index) # return the index\n",
    "    \n",
    "    def keys(self):\n",
    "        # function to return the set of keys of the dictionary -> the terms of the index\n",
    "        return self._dictionary.keys()\n",
    "    \n",
    "    def __getitem__(self, key):\n",
    "        return self._dictionary[key]\n",
    "        raise KeyError # the key is not present"
   ]
  },
  {
   "cell_type": "markdown",
   "metadata": {},
   "source": [
    "## Term-document matrix"
   ]
  },
  {
   "cell_type": "markdown",
   "metadata": {},
   "source": [
    "In order to perform the **Latent Semantic Indexing** we need to build the term-document matrix, that is the matrix in which each row correspond to a term and each column to a document and the value of each element is equal to some kind of weighting of the word in the document.\\\n",
    "I wrote a class that allows you to build the term-document from the corpus. You can also choose two different options for the words weighting:\n",
    "- the Bag of Words: in which each element of the matrix is equal to the frequency of the term in the document\n",
    "- the tf-idf: in which each element of the matrix is equal to the term frequency - inverse document frequency score for the term in the document\n",
    "\n",
    "Here, after having built the term-document matrix, begins the crucial part of the **LSI**\\\n",
    "The `svd` function of the class performes the singular value decomposition. In this way we are able to extract the latent factors of the term-document matrix, which express the concepts of the texts.\\\n",
    "Performing SVD we obtain three matrices:\n",
    "- **U**: term-concept matrix where each row represent how much each term is represented by a certain concept\n",
    "- **$\\Sigma$**: concept matrix, a diagonal matrix where each value represent the weight of a concept\n",
    "- **V**: document-concept matrix where each row represent how much a document contains a certain concept\n",
    "\n",
    "An important thing that can be done with SVD is reduce the space occupied by the original term-document matrix by reducing its rank. Using SVD we are able to minimize the error introduced by the approximation according to the Fobenius norm.\\\n",
    "Hence, given the term-document matrix $C$ of rank $r$, its SVD $U\\Sigma V^T$ and fixed the rank of the approximation to $k < r$, we can compute the approximated matrix $C_k$ by zeroing out the smallest $r-k$ singular values. Thus there is no need to store the last $r-k$ columns of $U$ and the last $r-k$ rows of $V$. So we can rewrite everything as a truncated SVD $U_k \\Sigma_k V_k^T$.\\\n",
    "This low rank approximation can be done by calling the function `low_rank_approximation` and passing the reduced rank to it."
   ]
  },
  {
   "cell_type": "code",
   "execution_count": 6,
   "metadata": {},
   "outputs": [],
   "source": [
    "class TermDocumentMatrix:\n",
    "    \n",
    "    def __init__(self, index, matrix, tfidf = False):\n",
    "        self._index = index\n",
    "        self._matrix = matrix\n",
    "        self._tfidf = tfidf\n",
    "    \n",
    "    @classmethod\n",
    "    def from_corpus(cls, corpus, tfidf = False):\n",
    "        index = InvertedIndex.from_corpus(corpus) # create the inverted index\n",
    "        C = np.zeros((len(index.keys()), NUM_DOCUMENT)) # create a data matrix with #words-by-#docs dimensions\n",
    "        # fill the matrix\n",
    "        for i, word in enumerate(sorted(index.keys())): # for each word in the vocabulary\n",
    "            for d in index[word].keys(): # for each document in the index\n",
    "                try:\n",
    "                    value = index[word][d] # get the number of times the word appears in the document\n",
    "                    if tfidf: # if we want to use tfidf\n",
    "                        value *= log(NUM_DOCUMENT/len(index[word])) # multiply the term frequency for the inverse document frequency\n",
    "                    C[i,d] = value # assign the value to the matrix element\n",
    "                except KeyError: # if the word do not appear in the docuent\n",
    "                    C[i,d] = 0 # assign the value 0 to the matrix element\n",
    "        return cls(index, C, tfidf) # call class ctor\n",
    "        \n",
    "    def get_vocabulary(self):\n",
    "        # function to get the vocabulary\n",
    "        return sorted(self._index.keys())\n",
    "        \n",
    "    def svd(self):\n",
    "        # function to perform sigular value decomposition\n",
    "        return svd(self._matrix, full_matrices=False, compute_uv=True)\n",
    "    \n",
    "    def low_rank_approximation(self, k):\n",
    "        U, sigma, Vt = svd(self._matrix, full_matrices=False, compute_uv=True) # perform the svd\n",
    "        U_k = U[:, :k] # keep only the firsts k columns of the matrix U\n",
    "        sigma_k = sigma[:k] # the firsts k singular values\n",
    "        Vt_k = Vt[:k, :] # and the firsts k rows of the matrix V\n",
    "        return U_k, sigma_k, Vt_k.T"
   ]
  },
  {
   "cell_type": "markdown",
   "metadata": {},
   "source": [
    "## IR System"
   ]
  },
  {
   "cell_type": "markdown",
   "metadata": {},
   "source": [
    "Starting from the approximated matrices we are able to build a vector space model where the base is made by the *pseudo-terms*.\n",
    "\n",
    "In the vector space we can compute the similarity between two documents by computing the cosine-similarity between the two corresponding vectors. Since the angle formed by the vectors does not depend on their magnitude, we can normalize the document vectors $V(d_i)$ to unit vectors $v(d_i) = \\frac{V(d_i)}{||V(d_i)||}$ and then compute the cosine similarity as $sim(d_1,d_2) = v(d_1)v(d_2) $\n",
    "\n",
    "In this vetor space model we have to remap the query vector (unit vector with non-zero components corresponding to the query terms) in the space of concepts: $\\hat{q} = \\Sigma^{-1} U^T q$.\\\n",
    "Then we can find the answere to a query using the cosine similarity: $score(q, d_i) = sim(q, d_i)$.\\\n",
    "Since we are computing a similarity score we have a ranking of documents. Hence we can retrieve the $K$ most relevant documents."
   ]
  },
  {
   "cell_type": "markdown",
   "metadata": {},
   "source": [
    "Let's now put everything together to build the Information Retrieval System.\n",
    "\n",
    "The `IRSystem` class allows you to build an information retrieval system starting from a corpus or loading it from some files and also to save it to some files.\\\n",
    "In addition it is possible to answere some free text queries by retreaving the $K$ most relevant documents."
   ]
  },
  {
   "cell_type": "code",
   "execution_count": 7,
   "metadata": {},
   "outputs": [],
   "source": [
    "class IRSystem:\n",
    "    \n",
    "    def __init__(self, corpus, vocabulary, U, sigma, V):\n",
    "        self._corpus = corpus\n",
    "        self._vocabulary = vocabulary\n",
    "        self._U = U\n",
    "        self._sigma = sigma\n",
    "        self._V = V\n",
    "        \n",
    "    @classmethod\n",
    "    def from_corpus(cls, corpus, k, tfidf = False):\n",
    "        term_document_matrix = TermDocumentMatrix.from_corpus(corpus, tfidf) # build the term-document matrix\n",
    "        vocabulary = term_document_matrix.get_vocabulary() # extract the vocabulary\n",
    "        U, sigma, V = term_document_matrix.low_rank_approximation(k) # get the reduced matrices\n",
    "        for i,v in enumerate(V): # normalize the vectors\n",
    "            V[i] = v/np.linalg.norm(v)\n",
    "        return cls(corpus, vocabulary, U, sigma, V) # call the class ctor\n",
    "    \n",
    "    @classmethod\n",
    "    def load_ir(cls, path, corpus):\n",
    "        # load the vocabulary from a text fie\n",
    "        with open(path + 'vocabulary.txt') as f:\n",
    "            vocabulary = f.read().splitlines()\n",
    "        # read the matrices from some numpy files\n",
    "        U = np.load(path + 'U_matrix.npy')\n",
    "        sigma = np.load(path + 'sigma_array.npy')        \n",
    "        V = np.load(path + 'V_matrix.npy')        \n",
    "        return cls(corpus, vocabulary, U, sigma, V) # call the class ctor\n",
    "\n",
    "    def save_ir(self, path):\n",
    "        # save the vocabulary into a text file\n",
    "        vocabulary_file = open(path + 'vocabulary.txt', \"w\")\n",
    "        for word in self._vocabulary:\n",
    "            vocabulary_file.write(word + \"\\n\")\n",
    "        vocabulary_file.close()               \n",
    "        # save the matrices into numpy files\n",
    "        np.save(path + 'U_matrix', self._U)\n",
    "        np.save(path + 'sigma_array', self._sigma)        \n",
    "        np.save(path + 'V_matrix', self._V)\n",
    "    \n",
    "    def map_query(self, q):\n",
    "        Q = np.linalg.inv(np.diag(self._sigma)).dot(self._U.T).dot(q) # map the query vector into the pseudo-terms space\n",
    "        return Q / np.linalg.norm(Q) # normalize it\n",
    "    \n",
    "    def build_query_vector(self, text):\n",
    "        q = np.zeros(len(self._vocabulary)) # create a vector of len #words\n",
    "        # fill that vector with counts\n",
    "        tokens = clean(text) # collect the tokens\n",
    "        for i, word in enumerate(self._vocabulary): # for each word in the vocabulary\n",
    "            q[i] = tokens.count(word) # count how many times that word is appearing in the text\n",
    "        return self.map_query(q) # remap the query into the pseudo-terms space\n",
    "    \n",
    "    def answere_query(self, text, k = 5):\n",
    "        q = self.build_query_vector(text) # build the query vector\n",
    "        scores = []\n",
    "        for d in self._V: # for each document (= row of V)\n",
    "            scores.append(np.dot(q,d)) # cosine similarity\n",
    "        results = (-np.array(scores)).argsort()[:k] # extract argmax of top K     \n",
    "        return [(self._corpus[idx], scores[idx]) for idx in results], results # return the documents, their scores and theri idxs"
   ]
  },
  {
   "cell_type": "markdown",
   "metadata": {},
   "source": [
    "Finally let's define a function to answer a free text query given the information retrieval system"
   ]
  },
  {
   "cell_type": "code",
   "execution_count": 8,
   "metadata": {},
   "outputs": [],
   "source": [
    "def query(ir, text, k = 5, verbose = True):\n",
    "    results, idxs= ir.answere_query(text, k) # extract the results to the query\n",
    "    if verbose:\n",
    "        for document in results: # print the results\n",
    "            print(document)\n",
    "    return idxs # return the idxs"
   ]
  },
  {
   "cell_type": "markdown",
   "metadata": {},
   "source": [
    "# Let's do this"
   ]
  },
  {
   "cell_type": "markdown",
   "metadata": {},
   "source": [
    "Let's now try to build the system and ask it some queries"
   ]
  },
  {
   "cell_type": "code",
   "execution_count": 9,
   "metadata": {},
   "outputs": [],
   "source": [
    "NUM_DOCUMENT = 1000 # let's consider only the first 1000 documents (for RAM problems)"
   ]
  },
  {
   "cell_type": "code",
   "execution_count": 10,
   "metadata": {},
   "outputs": [],
   "source": [
    "corpus = read_corpus_of_books('./booksummaries/booksummaries.txt') # read the corpus "
   ]
  },
  {
   "cell_type": "code",
   "execution_count": 11,
   "metadata": {},
   "outputs": [],
   "source": [
    "ir = IRSystem.from_corpus(corpus, 100) # build the ir sysrem"
   ]
  },
  {
   "cell_type": "code",
   "execution_count": 12,
   "metadata": {},
   "outputs": [
    {
     "name": "stdout",
     "output_type": "stream",
     "text": [
      "(Animal Farm, George Orwell, 0.8055658403862466)\n",
      "(Guns, Germs, and Steel, Jared Diamond, 0.49004279852382604)\n",
      "(Charlotte's Web, E. B. White, 0.3373472459954793)\n",
      "(Interview with the Vampire, Anne Rice, 0.2995314032866505)\n",
      "(The Quiet Earth, Craig Harrison, 0.29893781427874455)\n"
     ]
    },
    {
     "data": {
      "text/plain": [
       "array([  0, 382, 792, 329, 523])"
      ]
     },
     "execution_count": 12,
     "metadata": {},
     "output_type": "execute_result"
    }
   ],
   "source": [
    "query(ir, 'animal england rebellion', 5) # ask a query"
   ]
  },
  {
   "cell_type": "code",
   "execution_count": 13,
   "metadata": {},
   "outputs": [],
   "source": [
    "ir.save_ir('./data/first_ir/') # save the ir"
   ]
  },
  {
   "cell_type": "code",
   "execution_count": 14,
   "metadata": {},
   "outputs": [],
   "source": [
    "# load the ir from file\n",
    "corpus2 = read_corpus_of_books('./booksummaries/booksummaries.txt')\n",
    "ir2 = IRSystem.load_ir('./data/first_ir/', corpus2)"
   ]
  },
  {
   "cell_type": "markdown",
   "metadata": {},
   "source": [
    "## Also with tf-idf matrix"
   ]
  },
  {
   "cell_type": "markdown",
   "metadata": {},
   "source": [
    "Let's try to build the system using the term frequency - inverse document frequency weighting"
   ]
  },
  {
   "cell_type": "code",
   "execution_count": 15,
   "metadata": {},
   "outputs": [],
   "source": [
    "ir_tfidf = IRSystem.from_corpus(corpus, 100, True) # build the ir sysrem"
   ]
  },
  {
   "cell_type": "code",
   "execution_count": 16,
   "metadata": {},
   "outputs": [
    {
     "name": "stdout",
     "output_type": "stream",
     "text": [
      "(The BFG, Roald Dahl, 0.5771182775117198)\n",
      "(The Sword in the Stone, T. H. White, 0.5598294692529134)\n",
      "(Uncle Cleans Up, , 0.504141365273493)\n",
      "(The Ugly Duckling, Hans Christian Andersen, 0.49847816701955405)\n",
      "(The Chrysalids, John Wyndham, 0.49397025027304564)\n"
     ]
    },
    {
     "data": {
      "text/plain": [
       "array([663, 536, 617, 774, 737])"
      ]
     },
     "execution_count": 16,
     "metadata": {},
     "output_type": "execute_result"
    }
   ],
   "source": [
    "query(ir_tfidf, 'animal england rebellion', 5) # ask a query"
   ]
  },
  {
   "cell_type": "markdown",
   "metadata": {},
   "source": [
    "Executing the queries in this way we can see that the results seem to be coherent with the asked query. Nevertheless we do not have a way to numerically evaluate the performances of the information retrieval system."
   ]
  },
  {
   "cell_type": "markdown",
   "metadata": {},
   "source": [
    "# Evaluation"
   ]
  },
  {
   "cell_type": "markdown",
   "metadata": {},
   "source": [
    "To evaluate the information retrieval system let's consider another dataset: the *Cranfield collection*"
   ]
  },
  {
   "cell_type": "markdown",
   "metadata": {},
   "source": [
    "## Cranfield articles"
   ]
  },
  {
   "cell_type": "markdown",
   "metadata": {},
   "source": [
    "The Cranfield collection contains 1398 abstracts of aerodynamics journal articles, each of them is composed by:\n",
    "1. idx: a univocal index\n",
    "2. title: the tile of the article\n",
    "3. text: the text of the article\n",
    "\n",
    "In order to store each instance let's define a class to represent the data."
   ]
  },
  {
   "cell_type": "code",
   "execution_count": 17,
   "metadata": {},
   "outputs": [],
   "source": [
    "class Articles:\n",
    "    \n",
    "    def __init__(self, idx, title, text):\n",
    "        self._idx = idx\n",
    "        self._title = title\n",
    "        self._text = text\n",
    "    \n",
    "    def get_text(self):\n",
    "        # function to get the text of the ariticle\n",
    "        return self._text\n",
    "    \n",
    "    def get_idx(self):\n",
    "        # function to get the idx of the article\n",
    "        return self._idx\n",
    "    \n",
    "    def __repr__(self):\n",
    "        return self._idx + ': ' + self._title  "
   ]
  },
  {
   "cell_type": "markdown",
   "metadata": {},
   "source": [
    "And a function to read them and create a corpus of `Articles`."
   ]
  },
  {
   "cell_type": "code",
   "execution_count": 18,
   "metadata": {},
   "outputs": [],
   "source": [
    "def read_Cranfield(filepath):\n",
    "    with open(filepath) as f: # open the file\n",
    "        corpus = []\n",
    "        is_title = False\n",
    "        is_text = False\n",
    "        text = \"\"\n",
    "        title = \"\"\n",
    "        for row in f: # for each row\n",
    "            if row.startswith(\".A\"): # if it starts with .A\n",
    "                is_title = False # the tile is ended\n",
    "            elif row.startswith(\".I\"): # if it starts with .I\n",
    "                is_text = False # the text is ended\n",
    "                if text != \"\":\n",
    "                    corpus.append(Articles(idx, title.replace('\\n', ' '), text.replace('\\n', ' '))) # create an Article instance\n",
    "                    title = \"\"\n",
    "                    text = \"\"\n",
    "                idx = re.findall('[0-9]+', row)[0] # extract the index from the row\n",
    "            if is_title: # if we are reading the title\n",
    "                title += row # concat it\n",
    "            if is_text: # if we are reading the text\n",
    "                text += row # concat it\n",
    "            if row.startswith(\".T\"): # if it starts with .T\n",
    "                is_title = True # we are going to read the title in the next lines\n",
    "            elif row.startswith(\".W\"): # if it starts with .W\n",
    "                is_text = True # we are going to read the text in the next lines\n",
    "    return corpus # return the corpus"
   ]
  },
  {
   "cell_type": "markdown",
   "metadata": {},
   "source": [
    "# Cranfield queries and relevance set"
   ]
  },
  {
   "cell_type": "markdown",
   "metadata": {},
   "source": [
    "The Cranfield collection also contains a set of 225 queries, and exhaustive relevance judgments of all (query, document) pairs.\\\n",
    "Hence each query has:\n",
    "1. idx: a univocal index\n",
    "2. text: the text of the query\n",
    "3. relevance_set: the list of relevant document for the query\n",
    "\n",
    "In order to store each instance let's define a class to represent the data.\\\n",
    "The class has also some function to evaluate the results of the query by comparing the list of retrieved documents with the relevant ones."
   ]
  },
  {
   "cell_type": "code",
   "execution_count": 19,
   "metadata": {},
   "outputs": [],
   "source": [
    "class Query:\n",
    "    \n",
    "    def __init__(self, idx, text, relevance_set):\n",
    "        self._idx = idx\n",
    "        self._text = text\n",
    "        self._relevance_set = relevance_set\n",
    "        \n",
    "    def evaluate(self, docs_idx):\n",
    "        # function to visually evaluate the performances relative query: True if the document is relevant for it, False otherwise\n",
    "        return [idx in self._relevance_set for idx in docs_idx]   \n",
    "    \n",
    "    def precision(self, docs_idx):\n",
    "        # function to compute the precision relative to a query\n",
    "        return sum([int(idx in self._relevance_set) for idx in docs_idx])/len(docs_idx)\n",
    "    \n",
    "    def recall(self, docs_idx):\n",
    "        # function to compute the recall relative to a query\n",
    "        return sum([int(idx in self._relevance_set) for idx in docs_idx])/len(self._relevance_set)\n",
    "        \n",
    "    def get_query(self):\n",
    "        # function to get the text of a query\n",
    "        return self._text\n",
    "    \n",
    "    def get_num_relevant_docs(self):\n",
    "        # function to get the number of relevant documents for a query\n",
    "        return len(self._relevance_set)\n",
    "    \n",
    "    def __repr__(self):\n",
    "        return self._idx + ': ' + self._text "
   ]
  },
  {
   "cell_type": "markdown",
   "metadata": {},
   "source": [
    "Let's also define a funciton to read the relevance set"
   ]
  },
  {
   "cell_type": "code",
   "execution_count": 20,
   "metadata": {},
   "outputs": [],
   "source": [
    "def read_relevance(filepath):\n",
    "    with open(filepath) as f:\n",
    "        relevance_set = {}\n",
    "        for row in f: # for each row\n",
    "            l = re.findall('[0-9]+', row) # extract the numbers\n",
    "            q = l[0] # the first one is the query id\n",
    "            doc = l[1] # the second one is the document id\n",
    "            try:\n",
    "                relevance_set[q].append(doc) # append the document id to the relevance set\n",
    "            except KeyError:\n",
    "                relevance_set[q] = [doc] # or initialize the set\n",
    "    return relevance_set # return the relevance set"
   ]
  },
  {
   "cell_type": "markdown",
   "metadata": {},
   "source": [
    "And to read the queries and create a corpus of `Query`"
   ]
  },
  {
   "cell_type": "code",
   "execution_count": 21,
   "metadata": {},
   "outputs": [],
   "source": [
    "def read_queries(filepath, relevance_set):\n",
    "    with open(filepath) as f:\n",
    "        corpus = []\n",
    "        is_text = False\n",
    "        text = \"\"\n",
    "        i = 1\n",
    "        for row in f: # for each row\n",
    "            if row.startswith(\".I\"): # if it starts with .I\n",
    "                is_text = False # the text is ended\n",
    "                if text != \"\":\n",
    "                    corpus.append(Query(idx, text.replace('\\n', ' '), relevance_set[str(i)])) # create a Query instance\n",
    "                    i += 1\n",
    "                    text = \"\"\n",
    "                idx = re.findall('[0-9]+', row)[0] # extract the idx of the query\n",
    "            if is_text: # if we are reading the text\n",
    "                text += row # concat it\n",
    "            elif row.startswith(\".W\"): # if it starts with .W\n",
    "                is_text = True # we are going to read the text in the next lines\n",
    "    return corpus # return the corpus"
   ]
  },
  {
   "cell_type": "markdown",
   "metadata": {},
   "source": [
    "## Evaluation functions"
   ]
  },
  {
   "cell_type": "markdown",
   "metadata": {},
   "source": [
    "Let's now define various functions to evaluate the performances of the information retrieval system\n",
    "- **Precision-recall curve**: compute precision and recall for the first 1, 2, 3, 4, ..., R retrieved documents (where R is the number of relevant documents for the considered query), compute the interpolated precision and plot them\n",
    "- **R-precision**: If there are R relevant documents for a query, the R-precision is the precision of the top R ranked documents returned by the query. R-precision can be averaged across queries\n",
    "- **Mean Average Precision**: $= \\frac 1 n \\sum_{j=1}^n(\\frac 1 {m_j} \\sum_{k=1}^{m_j} Precision(R_{kj}))$ where $n$ is the number of considered queries, $m_j$ is the number of relevant documents for the j-th query and $R_{kj}$ is the set of ranked documents retrieved for the j-th query that we get to obtain k relevant documents"
   ]
  },
  {
   "cell_type": "code",
   "execution_count": 22,
   "metadata": {},
   "outputs": [],
   "source": [
    "def precision_recall_curve(ir, q, corpus):\n",
    "    results = query(ir, q.get_query(), q.get_num_relevant_docs(), False) # extract the R most relevant documents for the query\n",
    "    docs_idx = [corpus[idx].get_idx() for idx in results] # extract their idxs in the corpus\n",
    "    precision = []\n",
    "    recall = []\n",
    "    for j in range(1, q.get_num_relevant_docs()+1): # considering the first j retrieved documents\n",
    "        precision.append(q.precision(docs_idx[:j])) # compute the precision\n",
    "        recall.append(q.recall(docs_idx[:j])) # and the recall\n",
    "    # compute the interpolated precision\n",
    "    interpolated_precision = []\n",
    "    for i in range(len(precision)): \n",
    "        interpolated_precision.append(max(precision[i:]))\n",
    "    # and plot everything\n",
    "    fig, ax = plt.subplots()\n",
    "    ax.plot(recall, precision)\n",
    "    ax.plot(recall, interpolated_precision, ':')\n",
    "    ax.set(xlabel='recall', ylabel='precision',\n",
    "           title='Recall-precision curve')\n",
    "    plt.show()\n",
    "    return precision, recall # return precision and recall"
   ]
  },
  {
   "cell_type": "code",
   "execution_count": 23,
   "metadata": {},
   "outputs": [],
   "source": [
    "def R_precision(ir, q, corpus):\n",
    "    results = query(ir, q.get_query(), q.get_num_relevant_docs(), False) # extract the R most relevant documents for the query  \n",
    "    docs_idx = [corpus[idx].get_idx() for idx in results] # extract their idxs in the corpus\n",
    "    return q.precision(docs_idx) # compute precision"
   ]
  },
  {
   "cell_type": "code",
   "execution_count": 24,
   "metadata": {},
   "outputs": [],
   "source": [
    "def mean_R_precision(ir, queries_set, corpus):\n",
    "    mean_r = 0\n",
    "    for q in queries_set: # for each query in the set\n",
    "        mean_r += R_precision(ir, q, corpus) # compute R precision\n",
    "    return mean_r/len(queries_set) # and compute the mean value"
   ]
  },
  {
   "cell_type": "code",
   "execution_count": 25,
   "metadata": {},
   "outputs": [],
   "source": [
    "def average_precision(ir, q, corpus):\n",
    "    sum_of_precisions = 0\n",
    "    results = query(ir, q.get_query(), q.get_num_relevant_docs(), False) # extract the R most relevant documents for the query \n",
    "    docs_idx = [corpus[idx].get_idx() for idx in results] # extract their idxs\n",
    "    for j in range(1, q.get_num_relevant_docs()+1): # considering the first j retrieved documents\n",
    "        sum_of_precisions += q.precision(docs_idx[:j]) # compute the precision \n",
    "    return sum_of_precisions/q.get_num_relevant_docs() # return average precision of the query q"
   ]
  },
  {
   "cell_type": "code",
   "execution_count": 26,
   "metadata": {},
   "outputs": [],
   "source": [
    "def mean_average_precision(ir, queries_set, corpus):\n",
    "    sum_average_precisions = 0\n",
    "    for q in queries_set: # for each query in the set\n",
    "        sum_average_precisions += average_precision(ir, q, corpus) # compute average precision of the query q\n",
    "    return sum_average_precisions/len(queries_set) # return MAP"
   ]
  },
  {
   "cell_type": "markdown",
   "metadata": {},
   "source": [
    "## Let's evaluate"
   ]
  },
  {
   "cell_type": "markdown",
   "metadata": {},
   "source": [
    "Let's build the information retrieval system on the new corpus."
   ]
  },
  {
   "cell_type": "code",
   "execution_count": 27,
   "metadata": {},
   "outputs": [],
   "source": [
    "# import data\n",
    "cranfield_corpus = read_Cranfield('./cranfield/cran.all.1400')\n",
    "relevance_set = read_relevance('./cranfield/cranqrel')\n",
    "queries_corpus = read_queries('./cranfield/cran.qry', relevance_set)"
   ]
  },
  {
   "cell_type": "code",
   "execution_count": 28,
   "metadata": {},
   "outputs": [],
   "source": [
    "NUM_DOCUMENT = len(cranfield_corpus) # cosider all the corpus"
   ]
  },
  {
   "cell_type": "code",
   "execution_count": 29,
   "metadata": {},
   "outputs": [],
   "source": [
    "# create the information retrieval system\n",
    "cranfield_ir = IRSystem.from_corpus(cranfield_corpus, 200)"
   ]
  },
  {
   "cell_type": "markdown",
   "metadata": {},
   "source": [
    "First of all let's consider the first query of the corpus and evaluate the results on it"
   ]
  },
  {
   "cell_type": "code",
   "execution_count": 30,
   "metadata": {},
   "outputs": [
    {
     "name": "stdout",
     "output_type": "stream",
     "text": [
      "what similarity laws must be obeyed when constructing aeroelastic models of heated high speed aircraft . \n"
     ]
    }
   ],
   "source": [
    "q = queries_corpus[0]\n",
    "print(q.get_query())"
   ]
  },
  {
   "cell_type": "code",
   "execution_count": 31,
   "metadata": {},
   "outputs": [
    {
     "name": "stdout",
     "output_type": "stream",
     "text": [
      "(51: theory of aircraft structural models subjected to aerodynamic heating and external loads . , 0.4466336639784838)\n",
      "(486: similarity laws for aerothermoelastic testing . , 0.3989268108596872)\n",
      "(184: scale models for thermo-aeroelastic research . , 0.36404196218126833)\n",
      "(12: some structural and aerelastic considerations of high speed flight . , 0.34560867049063276)\n",
      "(435: application of similar solutions to calculations of laminar heat transfer on bodies with yaw and large pressure gradients in high speed flow . , 0.29471286730803)\n"
     ]
    },
    {
     "data": {
      "text/plain": [
       "array([ 50, 484, 183,  11, 434])"
      ]
     },
     "execution_count": 31,
     "metadata": {},
     "output_type": "execute_result"
    }
   ],
   "source": [
    "query(cranfield_ir, q.get_query())"
   ]
  },
  {
   "cell_type": "code",
   "execution_count": 32,
   "metadata": {},
   "outputs": [
    {
     "data": {
      "image/png": "[encoded data removed]",
      "text/plain": [
       "<Figure size 432x288 with 1 Axes>"
      ]
     },
     "metadata": {
      "needs_background": "light"
     },
     "output_type": "display_data"
    }
   ],
   "source": [
    "# precision-recall curve\n",
    "precision, recall = precision_recall_curve(cranfield_ir, q, cranfield_corpus)"
   ]
  },
  {
   "cell_type": "code",
   "execution_count": 33,
   "metadata": {},
   "outputs": [
    {
     "data": {
      "text/plain": [
       "0.27586206896551724"
      ]
     },
     "execution_count": 33,
     "metadata": {},
     "output_type": "execute_result"
    }
   ],
   "source": [
    "# R-precision\n",
    "R_precision(cranfield_ir, q, cranfield_corpus)"
   ]
  },
  {
   "cell_type": "markdown",
   "metadata": {},
   "source": [
    "To have a better overview of the performances let's now consider the first 10 queries of the corpus and evaluate the average results on them"
   ]
  },
  {
   "cell_type": "code",
   "execution_count": 34,
   "metadata": {},
   "outputs": [
    {
     "data": {
      "text/plain": [
       "['what similarity laws must be obeyed when constructing aeroelastic models of heated high speed aircraft . ',\n",
       " 'what are the structural and aeroelastic problems associated with flight of high speed aircraft . ',\n",
       " 'what problems of heat conduction in composite slabs have been solved so far . ',\n",
       " 'can a criterion be developed to show empirically the validity of flow solutions for chemically reacting gas mixtures based on the simplifying assumption of instantaneous local chemical equilibrium . ',\n",
       " 'what chemical kinetic system is applicable to hypersonic aerodynamic problems . ',\n",
       " 'what theoretical and experimental guides do we have as to turbulent couette flow behaviour . ',\n",
       " 'is it possible to relate the available pressure distributions for an ogive forebody at zero angle of attack to the lower surface pressures of an equivalent ogive forebody at angle of attack . ',\n",
       " 'what methods -dash exact or approximate -dash are presently available for predicting body pressures at angle of attack. ',\n",
       " 'papers on internal /slip flow/ heat transfer studies . ',\n",
       " 'are real-gas transport properties for air available over a wide range of enthalpies and densities . ']"
      ]
     },
     "execution_count": 34,
     "metadata": {},
     "output_type": "execute_result"
    }
   ],
   "source": [
    "queries_set = [queries_corpus[x] for x in range(10)]\n",
    "[x.get_query() for x in queries_set]"
   ]
  },
  {
   "cell_type": "code",
   "execution_count": 35,
   "metadata": {},
   "outputs": [
    {
     "data": {
      "text/plain": [
       "0.23736398467432948"
      ]
     },
     "execution_count": 35,
     "metadata": {},
     "output_type": "execute_result"
    }
   ],
   "source": [
    "# mean R-precision\n",
    "mean_R_precision(cranfield_ir, queries_set, cranfield_corpus)"
   ]
  },
  {
   "cell_type": "code",
   "execution_count": 36,
   "metadata": {},
   "outputs": [
    {
     "data": {
      "text/plain": [
       "0.37552082278824295"
      ]
     },
     "execution_count": 36,
     "metadata": {},
     "output_type": "execute_result"
    }
   ],
   "source": [
    "# mean average precision\n",
    "mean_average_precision(cranfield_ir, queries_set, cranfield_corpus)"
   ]
  },
  {
   "cell_type": "markdown",
   "metadata": {},
   "source": [
    "## And again with tf-idf weighting"
   ]
  },
  {
   "cell_type": "markdown",
   "metadata": {},
   "source": [
    "Let's do the same operation using the term frequency - inverse document frequency weighting"
   ]
  },
  {
   "cell_type": "code",
   "execution_count": 37,
   "metadata": {},
   "outputs": [],
   "source": [
    "# create the information retrieval system\n",
    "cranfield_ir_tfidf = IRSystem.from_corpus(cranfield_corpus, 200, True)"
   ]
  },
  {
   "cell_type": "code",
   "execution_count": 38,
   "metadata": {},
   "outputs": [
    {
     "name": "stdout",
     "output_type": "stream",
     "text": [
      "(51: theory of aircraft structural models subjected to aerodynamic heating and external loads . , 0.6116681195058333)\n",
      "(184: scale models for thermo-aeroelastic research . , 0.4429827613312155)\n",
      "(12: some structural and aerelastic considerations of high speed flight . , 0.425944004334774)\n",
      "(253: on the ground level disturbance from large aircraft flying at supersonic speeds . , 0.3743410752224686)\n",
      "(13: similarity laws for stressing heated wings . , 0.3495825346622867)\n"
     ]
    },
    {
     "data": {
      "text/plain": [
       "array([ 50, 183,  11, 252,  12])"
      ]
     },
     "execution_count": 38,
     "metadata": {},
     "output_type": "execute_result"
    }
   ],
   "source": [
    "query(cranfield_ir_tfidf, q.get_query())"
   ]
  },
  {
   "cell_type": "code",
   "execution_count": 39,
   "metadata": {},
   "outputs": [
    {
     "data": {
      "image/png": "[encoded data removed]",
      "text/plain": [
       "<Figure size 432x288 with 1 Axes>"
      ]
     },
     "metadata": {
      "needs_background": "light"
     },
     "output_type": "display_data"
    }
   ],
   "source": [
    "precision, recall = precision_recall_curve(cranfield_ir_tfidf, q, cranfield_corpus)"
   ]
  },
  {
   "cell_type": "code",
   "execution_count": 40,
   "metadata": {},
   "outputs": [
    {
     "data": {
      "text/plain": [
       "0.41379310344827586"
      ]
     },
     "execution_count": 40,
     "metadata": {},
     "output_type": "execute_result"
    }
   ],
   "source": [
    "R_precision(cranfield_ir_tfidf, q, cranfield_corpus)"
   ]
  },
  {
   "cell_type": "code",
   "execution_count": 41,
   "metadata": {},
   "outputs": [
    {
     "data": {
      "text/plain": [
       "0.40904597701149426"
      ]
     },
     "execution_count": 41,
     "metadata": {},
     "output_type": "execute_result"
    }
   ],
   "source": [
    "mean_R_precision(cranfield_ir_tfidf, queries_set, cranfield_corpus)"
   ]
  },
  {
   "cell_type": "code",
   "execution_count": 42,
   "metadata": {},
   "outputs": [
    {
     "data": {
      "text/plain": [
       "0.48817172924737695"
      ]
     },
     "execution_count": 42,
     "metadata": {},
     "output_type": "execute_result"
    }
   ],
   "source": [
    "mean_average_precision(cranfield_ir_tfidf, queries_set, cranfield_corpus)"
   ]
  },
  {
   "cell_type": "markdown",
   "metadata": {},
   "source": [
    "The performances are a much better when using the term frequency - inverse document frequency to build the term document matrix!\\\n",
    "Hence, form now on, let's only consider this matrix."
   ]
  },
  {
   "cell_type": "markdown",
   "metadata": {},
   "source": [
    "## Fine tune"
   ]
  },
  {
   "cell_type": "markdown",
   "metadata": {},
   "source": [
    "Thanks to the abovementioned metrics we can now tune the rank of the low-rank approximation in order to obtain better results.\n",
    "\n",
    "Let's consider both the *mean R-precision*  and the *mean average precision* and let's see how their performnces change when the rank of the approximation change.\\\n",
    "The value of the rank *k* will vary from 100 to 800 by steps of 10. The queries that will be used in the evaluation are the first 10 of the corpus."
   ]
  },
  {
   "cell_type": "code",
   "execution_count": 43,
   "metadata": {},
   "outputs": [
    {
     "name": "stdout",
     "output_type": "stream",
     "text": [
      "Rank  100 :  0.2672605363984674 ;  0.406961124494155\n",
      "Rank  200 :  0.40904597701149426 ;  0.48817172924737695\n",
      "Rank  300 :  0.41936398467432945 ;  0.5325708979255441\n",
      "Rank  400 :  0.3941455938697318 ;  0.5771374120431949\n",
      "Rank  500 :  0.35937164750957856 ;  0.543615176215534\n",
      "Rank  600 :  0.3453639846743295 ;  0.5327937553951932\n",
      "Rank  700 :  0.3379157088122605 ;  0.4995535880013344\n"
     ]
    },
    {
     "data": {
      "image/png": "[encoded data removed]",
      "text/plain": [
       "<Figure size 432x288 with 1 Axes>"
      ]
     },
     "metadata": {
      "needs_background": "light"
     },
     "output_type": "display_data"
    }
   ],
   "source": [
    "mRp = []\n",
    "mAp = []\n",
    "for k in range(100,800, 100):\n",
    "    cranfield_ir_tfidf = IRSystem.from_corpus(cranfield_corpus, k, True) # create the ir  \n",
    "    mRp.append(mean_R_precision(cranfield_ir_tfidf, queries_set, cranfield_corpus)) # compute mean R precision\n",
    "    mAp.append(mean_average_precision(cranfield_ir_tfidf, queries_set,cranfield_corpus)) # compute mean average precision\n",
    "    print('Rank ', k, ': ', mRp[-1], '; ', mAp[-1])\n",
    "\n",
    "# plot\n",
    "fig, ax = plt.subplots()\n",
    "ax.plot(range(100,800, 100), mRp, label = 'Mean R-precision')\n",
    "ax.plot(range(100,800, 100), mAp, label = 'Mean average precision')\n",
    "ax.set(xlabel='rank', ylabel='metric')\n",
    "ax.legend()\n",
    "plt.show()"
   ]
  },
  {
   "cell_type": "markdown",
   "metadata": {},
   "source": [
    "We can see that both the metrics reach a maximum and then decrease. Both of them perform well when the rank in $400$. Hence let's rebuilt the information retrieval system specifying a rank of $400$ for the approximation."
   ]
  },
  {
   "cell_type": "code",
   "execution_count": 44,
   "metadata": {},
   "outputs": [],
   "source": [
    "cranfield_ir_tfidf = IRSystem.from_corpus(cranfield_corpus, 400, True)"
   ]
  },
  {
   "cell_type": "markdown",
   "metadata": {},
   "source": [
    "Let's try the very first query of the Cranfield collection again"
   ]
  },
  {
   "cell_type": "code",
   "execution_count": 45,
   "metadata": {},
   "outputs": [
    {
     "name": "stdout",
     "output_type": "stream",
     "text": [
      "(51: theory of aircraft structural models subjected to aerodynamic heating and external loads . , 0.4264233649710893)\n",
      "(359: note on the hypersonic similarity law for an unyawed cone . , 0.30833826118955276)\n",
      "(184: scale models for thermo-aeroelastic research . , 0.3015635625182126)\n",
      "(435: application of similar solutions to calculations of laminar heat transfer on bodies with yaw and large pressure gradients in high speed flow . , 0.2857866661895783)\n",
      "(56: an analysis of the applicability of the hypersonic similarity law to the study of the flow about bodies of revolution at zero angle of attack . , 0.283156018624507)\n"
     ]
    },
    {
     "data": {
      "text/plain": [
       "array([ 50, 358, 183, 434,  55])"
      ]
     },
     "execution_count": 45,
     "metadata": {},
     "output_type": "execute_result"
    }
   ],
   "source": [
    "query(cranfield_ir_tfidf, q.get_query())"
   ]
  },
  {
   "cell_type": "markdown",
   "metadata": {},
   "source": [
    "We can see that the ranking of the documents is changed a bit with respect to the $200$ dimensions approximation. In addition the scores are a bit lower then before.\n",
    "\n",
    "Let's also compute the basic metrics again"
   ]
  },
  {
   "cell_type": "code",
   "execution_count": 46,
   "metadata": {},
   "outputs": [
    {
     "data": {
      "image/png": "[encoded data removed]",
      "text/plain": [
       "<Figure size 432x288 with 1 Axes>"
      ]
     },
     "metadata": {
      "needs_background": "light"
     },
     "output_type": "display_data"
    }
   ],
   "source": [
    "# precision recall curve\n",
    "precision, recall = precision_recall_curve(cranfield_ir_tfidf, q, cranfield_corpus)"
   ]
  },
  {
   "cell_type": "code",
   "execution_count": 47,
   "metadata": {},
   "outputs": [
    {
     "data": {
      "text/plain": [
       "0.3103448275862069"
      ]
     },
     "execution_count": 47,
     "metadata": {},
     "output_type": "execute_result"
    }
   ],
   "source": [
    "# R-precision\n",
    "R_precision(cranfield_ir_tfidf, q, cranfield_corpus)"
   ]
  },
  {
   "cell_type": "markdown",
   "metadata": {},
   "source": [
    "We can see that these metrics does not imporve with respect to the $200$ dimensions approximation but, on the contrary, it worsen. \n",
    "\n",
    "To have a better understending let's now recompute the performances on the set of 10 queries defined above."
   ]
  },
  {
   "cell_type": "code",
   "execution_count": 48,
   "metadata": {},
   "outputs": [
    {
     "data": {
      "text/plain": [
       "0.3941455938697318"
      ]
     },
     "execution_count": 48,
     "metadata": {},
     "output_type": "execute_result"
    }
   ],
   "source": [
    "# mean R-precision\n",
    "mean_R_precision(cranfield_ir_tfidf, queries_set, cranfield_corpus)"
   ]
  },
  {
   "cell_type": "code",
   "execution_count": 49,
   "metadata": {},
   "outputs": [
    {
     "data": {
      "text/plain": [
       "0.5771374120431949"
      ]
     },
     "execution_count": 49,
     "metadata": {},
     "output_type": "execute_result"
    }
   ],
   "source": [
    "# mean average precision\n",
    "mean_average_precision(cranfield_ir_tfidf, queries_set, cranfield_corpus)"
   ]
  },
  {
   "cell_type": "markdown",
   "metadata": {},
   "source": [
    "As seen above the mean R precision is almost the same as the one obtained with the 200 rank approximation. Nevertheless the mean average precision is much better then before."
   ]
  }
 ],
 "metadata": {
  "kernelspec": {
   "display_name": "ir",
   "language": "python",
   "name": "ir"
  },
  "language_info": {
   "codemirror_mode": {
    "name": "ipython",
    "version": 3
   },
   "file_extension": ".py",
   "mimetype": "text/x-python",
   "name": "python",
   "nbconvert_exporter": "python",
   "pygments_lexer": "ipython3",
   "version": "3.7.6"
  }
 },
 "nbformat": 4,
 "nbformat_minor": 4
}
